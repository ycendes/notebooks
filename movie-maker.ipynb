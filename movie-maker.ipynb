{
 "metadata": {
  "name": ""
 },
 "nbformat": 3,
 "nbformat_minor": 0,
 "worksheets": [
  {
   "cells": [
    {
     "cell_type": "code",
     "collapsed": false,
     "input": [
      "import matplotlib\n",
      "\n",
      "\n",
      "# remove this inline statement to stop the previews in the notebook\n",
      "%matplotlib inline\n",
      "#matplotlib.use('Agg')\n",
      "\n",
      "import logging\n",
      "from tkp.db.model import Image, Extractedsource\n",
      "from tkp.db import Database\n",
      "from pymongo import MongoClient\n",
      "from gridfs import GridFS\n",
      "from astropy.io import fits\n",
      "from astropy import log as astrolog\n",
      "from matplotlib import pyplot\n",
      "from aplpy import FITSFigure\n",
      "import os"
     ],
     "language": "python",
     "metadata": {},
     "outputs": [],
     "prompt_number": 4
    },
    {
     "cell_type": "code",
     "collapsed": false,
     "input": [
      "# colors for the extracted types\n",
      "#  0: blind fit, 1: forced fit, 2: manual monitoring\n",
      "source_colors = ['red', 'lightgreen', 'cyan']\n",
      "\n",
      "loglevel = logging.WARNING  # Set to INFO to see queries, otherwise WARNING\n",
      "\n",
      "image_size = 10\n",
      "\n",
      "output_folder = 'output'"
     ],
     "language": "python",
     "metadata": {},
     "outputs": [],
     "prompt_number": 3
    },
    {
     "cell_type": "code",
     "collapsed": false,
     "input": [
      "engine = 'postgresql'\n",
      "host = 'vlo.science.uva.nl'\n",
      "port = 5432\n",
      "user = 'ycendes'\n",
      "password = 'YtmM2ZLfFaZ8tVua27vXPnNg'\n",
      "database = 'SB003cendes'\n",
      "dataset_id = 20"
     ],
     "language": "python",
     "metadata": {},
     "outputs": [],
     "prompt_number": 7
    },
    {
     "cell_type": "code",
     "collapsed": false,
     "input": [
      "mongo_host = \"vlo.science.uva.nl\"\n",
      "mongo_port = 27017\n",
      "mongo_db = \"tkp\""
     ],
     "language": "python",
     "metadata": {},
     "outputs": [],
     "prompt_number": 9
    },
    {
     "cell_type": "code",
     "collapsed": false,
     "input": [
      "# configure loging\n",
      "logging.getLogger('sqlalchemy.engine').setLevel(loglevel)\n",
      "astrolog.setLevel(loglevel)"
     ],
     "language": "python",
     "metadata": {},
     "outputs": [],
     "prompt_number": 11
    },
    {
     "cell_type": "code",
     "collapsed": false,
     "input": [
      "# make output folder if it doesn't exists\n",
      "if not os.access(output_folder, os.X_OK):\n",
      "    os.mkdir(output_folder)"
     ],
     "language": "python",
     "metadata": {},
     "outputs": [],
     "prompt_number": 12
    },
    {
     "cell_type": "code",
     "collapsed": false,
     "input": [
      "# connect to the databases\n",
      "db = Database(engine=engine, host=host, port=port, user=user,\n",
      "              password=password, database=database)\n",
      "db.connect()\n",
      "session = db.Session()\n",
      "mongo_connection = MongoClient(mongo_host, mongo_port)\n",
      "gfs = GridFS(mongo_connection[mongo_db])"
     ],
     "language": "python",
     "metadata": {},
     "outputs": [],
     "prompt_number": 13
    },
    {
     "cell_type": "code",
     "collapsed": false,
     "input": [
      "# get all images from the database that belong to a databse, sorted by starttime\n",
      "images = session.query(Image).filter(Image.dataset_id==dataset_id).order_by(Image.taustart_ts).all()"
     ],
     "language": "python",
     "metadata": {},
     "outputs": [],
     "prompt_number": 14
    },
    {
     "cell_type": "code",
     "collapsed": false,
     "input": [
      "# open the files\n",
      "fitss = [fits.open(gfs.get_last_version(i.url)) for i in images]"
     ],
     "language": "python",
     "metadata": {},
     "outputs": [
      {
       "ename": "IOError",
       "evalue": "Cannot read from/write to a closed file-like object (<gridfs.grid_file.GridOut object at 0x7ffa414fcd90>).",
       "output_type": "pyerr",
       "traceback": [
        "\u001b[0;31m---------------------------------------------------------------------------\u001b[0m\n\u001b[0;31mIOError\u001b[0m                                   Traceback (most recent call last)",
        "\u001b[0;32m<ipython-input-15-6b04662a9380>\u001b[0m in \u001b[0;36m<module>\u001b[0;34m()\u001b[0m\n\u001b[1;32m      1\u001b[0m \u001b[0;31m# open the files\u001b[0m\u001b[0;34m\u001b[0m\u001b[0;34m\u001b[0m\u001b[0m\n\u001b[0;32m----> 2\u001b[0;31m \u001b[0mfitss\u001b[0m \u001b[0;34m=\u001b[0m \u001b[0;34m[\u001b[0m\u001b[0mfits\u001b[0m\u001b[0;34m.\u001b[0m\u001b[0mopen\u001b[0m\u001b[0;34m(\u001b[0m\u001b[0mgfs\u001b[0m\u001b[0;34m.\u001b[0m\u001b[0mget_last_version\u001b[0m\u001b[0;34m(\u001b[0m\u001b[0mi\u001b[0m\u001b[0;34m.\u001b[0m\u001b[0murl\u001b[0m\u001b[0;34m)\u001b[0m\u001b[0;34m)\u001b[0m \u001b[0;32mfor\u001b[0m \u001b[0mi\u001b[0m \u001b[0;32min\u001b[0m \u001b[0mimages\u001b[0m\u001b[0;34m]\u001b[0m\u001b[0;34m\u001b[0m\u001b[0m\n\u001b[0m",
        "\u001b[0;32m/usr/lib/python2.7/dist-packages/astropy/io/fits/hdu/hdulist.pyc\u001b[0m in \u001b[0;36mfitsopen\u001b[0;34m(name, mode, memmap, save_backup, **kwargs)\u001b[0m\n\u001b[1;32m    114\u001b[0m         \u001b[0;32mraise\u001b[0m \u001b[0mValueError\u001b[0m\u001b[0;34m(\u001b[0m\u001b[0;34m'Empty filename: %s'\u001b[0m \u001b[0;34m%\u001b[0m \u001b[0mrepr\u001b[0m\u001b[0;34m(\u001b[0m\u001b[0mname\u001b[0m\u001b[0;34m)\u001b[0m\u001b[0;34m)\u001b[0m\u001b[0;34m\u001b[0m\u001b[0m\n\u001b[1;32m    115\u001b[0m \u001b[0;34m\u001b[0m\u001b[0m\n\u001b[0;32m--> 116\u001b[0;31m     \u001b[0;32mreturn\u001b[0m \u001b[0mHDUList\u001b[0m\u001b[0;34m.\u001b[0m\u001b[0mfromfile\u001b[0m\u001b[0;34m(\u001b[0m\u001b[0mname\u001b[0m\u001b[0;34m,\u001b[0m \u001b[0mmode\u001b[0m\u001b[0;34m,\u001b[0m \u001b[0mmemmap\u001b[0m\u001b[0;34m,\u001b[0m \u001b[0msave_backup\u001b[0m\u001b[0;34m,\u001b[0m \u001b[0;34m**\u001b[0m\u001b[0mkwargs\u001b[0m\u001b[0;34m)\u001b[0m\u001b[0;34m\u001b[0m\u001b[0m\n\u001b[0m\u001b[1;32m    117\u001b[0m \u001b[0;34m\u001b[0m\u001b[0m\n\u001b[1;32m    118\u001b[0m \u001b[0;34m\u001b[0m\u001b[0m\n",
        "\u001b[0;32m/usr/lib/python2.7/dist-packages/astropy/io/fits/hdu/hdulist.pyc\u001b[0m in \u001b[0;36mfromfile\u001b[0;34m(cls, fileobj, mode, memmap, save_backup, **kwargs)\u001b[0m\n\u001b[1;32m    246\u001b[0m \u001b[0;34m\u001b[0m\u001b[0m\n\u001b[1;32m    247\u001b[0m         return cls._readfrom(fileobj=fileobj, mode=mode, memmap=memmap,\n\u001b[0;32m--> 248\u001b[0;31m                              save_backup=save_backup, **kwargs)\n\u001b[0m\u001b[1;32m    249\u001b[0m \u001b[0;34m\u001b[0m\u001b[0m\n\u001b[1;32m    250\u001b[0m     \u001b[0;34m@\u001b[0m\u001b[0mclassmethod\u001b[0m\u001b[0;34m\u001b[0m\u001b[0m\n",
        "\u001b[0;32m/usr/lib/python2.7/dist-packages/astropy/io/fits/hdu/hdulist.pyc\u001b[0m in \u001b[0;36m_readfrom\u001b[0;34m(cls, fileobj, data, mode, memmap, save_backup, **kwargs)\u001b[0m\n\u001b[1;32m    757\u001b[0m             \u001b[0;32mif\u001b[0m \u001b[0;32mnot\u001b[0m \u001b[0misinstance\u001b[0m\u001b[0;34m(\u001b[0m\u001b[0mfileobj\u001b[0m\u001b[0;34m,\u001b[0m \u001b[0m_File\u001b[0m\u001b[0;34m)\u001b[0m\u001b[0;34m:\u001b[0m\u001b[0;34m\u001b[0m\u001b[0m\n\u001b[1;32m    758\u001b[0m                 \u001b[0;31m# instantiate a FITS file object (ffo)\u001b[0m\u001b[0;34m\u001b[0m\u001b[0;34m\u001b[0m\u001b[0m\n\u001b[0;32m--> 759\u001b[0;31m                 \u001b[0mffo\u001b[0m \u001b[0;34m=\u001b[0m \u001b[0m_File\u001b[0m\u001b[0;34m(\u001b[0m\u001b[0mfileobj\u001b[0m\u001b[0;34m,\u001b[0m \u001b[0mmode\u001b[0m\u001b[0;34m=\u001b[0m\u001b[0mmode\u001b[0m\u001b[0;34m,\u001b[0m \u001b[0mmemmap\u001b[0m\u001b[0;34m=\u001b[0m\u001b[0mmemmap\u001b[0m\u001b[0;34m)\u001b[0m\u001b[0;34m\u001b[0m\u001b[0m\n\u001b[0m\u001b[1;32m    760\u001b[0m             \u001b[0;32melse\u001b[0m\u001b[0;34m:\u001b[0m\u001b[0;34m\u001b[0m\u001b[0m\n\u001b[1;32m    761\u001b[0m                 \u001b[0mffo\u001b[0m \u001b[0;34m=\u001b[0m \u001b[0mfileobj\u001b[0m\u001b[0;34m\u001b[0m\u001b[0m\n",
        "\u001b[0;32m/usr/lib/python2.7/dist-packages/astropy/io/fits/file.pyc\u001b[0m in \u001b[0;36m__init__\u001b[0;34m(self, fileobj, mode, memmap, clobber)\u001b[0m\n\u001b[1;32m    146\u001b[0m             \u001b[0mself\u001b[0m\u001b[0;34m.\u001b[0m\u001b[0m_open_filename\u001b[0m\u001b[0;34m(\u001b[0m\u001b[0mfileobj\u001b[0m\u001b[0;34m,\u001b[0m \u001b[0mmode\u001b[0m\u001b[0;34m,\u001b[0m \u001b[0mclobber\u001b[0m\u001b[0;34m)\u001b[0m\u001b[0;34m\u001b[0m\u001b[0m\n\u001b[1;32m    147\u001b[0m         \u001b[0;32melse\u001b[0m\u001b[0;34m:\u001b[0m\u001b[0;34m\u001b[0m\u001b[0m\n\u001b[0;32m--> 148\u001b[0;31m             \u001b[0mself\u001b[0m\u001b[0;34m.\u001b[0m\u001b[0m_open_filelike\u001b[0m\u001b[0;34m(\u001b[0m\u001b[0mfileobj\u001b[0m\u001b[0;34m,\u001b[0m \u001b[0mmode\u001b[0m\u001b[0;34m,\u001b[0m \u001b[0mclobber\u001b[0m\u001b[0;34m)\u001b[0m\u001b[0;34m\u001b[0m\u001b[0m\n\u001b[0m\u001b[1;32m    149\u001b[0m \u001b[0;34m\u001b[0m\u001b[0m\n\u001b[1;32m    150\u001b[0m         \u001b[0;32mif\u001b[0m \u001b[0misinstance\u001b[0m\u001b[0;34m(\u001b[0m\u001b[0mfileobj\u001b[0m\u001b[0;34m,\u001b[0m \u001b[0mgzip\u001b[0m\u001b[0;34m.\u001b[0m\u001b[0mGzipFile\u001b[0m\u001b[0;34m)\u001b[0m\u001b[0;34m:\u001b[0m\u001b[0;34m\u001b[0m\u001b[0m\n",
        "\u001b[0;32m/usr/lib/python2.7/dist-packages/astropy/io/fits/file.pyc\u001b[0m in \u001b[0;36m_open_filelike\u001b[0;34m(self, fileobj, mode, clobber)\u001b[0m\n\u001b[1;32m    396\u001b[0m         \u001b[0;32mif\u001b[0m \u001b[0mfileobj_closed\u001b[0m\u001b[0;34m(\u001b[0m\u001b[0mfileobj\u001b[0m\u001b[0;34m)\u001b[0m\u001b[0;34m:\u001b[0m\u001b[0;34m\u001b[0m\u001b[0m\n\u001b[1;32m    397\u001b[0m             raise IOError(\"Cannot read from/write to a closed file-like \"\n\u001b[0;32m--> 398\u001b[0;31m                           \"object (%r).\" % fileobj)\n\u001b[0m\u001b[1;32m    399\u001b[0m \u001b[0;34m\u001b[0m\u001b[0m\n\u001b[1;32m    400\u001b[0m         \u001b[0;32mif\u001b[0m \u001b[0misinstance\u001b[0m\u001b[0;34m(\u001b[0m\u001b[0mfileobj\u001b[0m\u001b[0;34m,\u001b[0m \u001b[0mzipfile\u001b[0m\u001b[0;34m.\u001b[0m\u001b[0mZipFile\u001b[0m\u001b[0;34m)\u001b[0m\u001b[0;34m:\u001b[0m\u001b[0;34m\u001b[0m\u001b[0m\n",
        "\u001b[0;31mIOError\u001b[0m: Cannot read from/write to a closed file-like object (<gridfs.grid_file.GridOut object at 0x7ffa414fcd90>)."
       ]
      }
     ],
     "prompt_number": 15
    },
    {
     "cell_type": "code",
     "collapsed": false,
     "input": [
      "print images"
     ],
     "language": "python",
     "metadata": {},
     "outputs": [
      {
       "output_type": "stream",
       "stream": "stdout",
       "text": [
        "[<tkp.db.model.Image object at 0x7ffa4150ce10>, <tkp.db.model.Image object at 0x7ffa4150ce90>, <tkp.db.model.Image object at 0x7ffa4150cf10>, <tkp.db.model.Image object at 0x7ffa4150cfd0>, <tkp.db.model.Image object at 0x7ffa414590d0>, <tkp.db.model.Image object at 0x7ffa41459190>, <tkp.db.model.Image object at 0x7ffa41459250>, <tkp.db.model.Image object at 0x7ffa41459310>, <tkp.db.model.Image object at 0x7ffa414593d0>, <tkp.db.model.Image object at 0x7ffa41459490>, <tkp.db.model.Image object at 0x7ffa41459550>, <tkp.db.model.Image object at 0x7ffa41459610>, <tkp.db.model.Image object at 0x7ffa414596d0>, <tkp.db.model.Image object at 0x7ffa41459790>, <tkp.db.model.Image object at 0x7ffa41459850>, <tkp.db.model.Image object at 0x7ffa41459910>, <tkp.db.model.Image object at 0x7ffa414599d0>, <tkp.db.model.Image object at 0x7ffa41459a90>, <tkp.db.model.Image object at 0x7ffa41459b50>, <tkp.db.model.Image object at 0x7ffa41459c10>, <tkp.db.model.Image object at 0x7ffa41459cd0>, <tkp.db.model.Image object at 0x7ffa41459d90>, <tkp.db.model.Image object at 0x7ffa41459e50>, <tkp.db.model.Image object at 0x7ffa41459f10>, <tkp.db.model.Image object at 0x7ffa41459fd0>, <tkp.db.model.Image object at 0x7ffa414600d0>, <tkp.db.model.Image object at 0x7ffa41460190>, <tkp.db.model.Image object at 0x7ffa41460250>, <tkp.db.model.Image object at 0x7ffa41460310>, <tkp.db.model.Image object at 0x7ffa414603d0>, <tkp.db.model.Image object at 0x7ffa41460490>, <tkp.db.model.Image object at 0x7ffa41460550>, <tkp.db.model.Image object at 0x7ffa41460610>, <tkp.db.model.Image object at 0x7ffa414606d0>, <tkp.db.model.Image object at 0x7ffa41460790>, <tkp.db.model.Image object at 0x7ffa41460850>, <tkp.db.model.Image object at 0x7ffa41460910>, <tkp.db.model.Image object at 0x7ffa414609d0>, <tkp.db.model.Image object at 0x7ffa41460a90>, <tkp.db.model.Image object at 0x7ffa41460b50>, <tkp.db.model.Image object at 0x7ffa41460c10>, <tkp.db.model.Image object at 0x7ffa41460cd0>, <tkp.db.model.Image object at 0x7ffa41460d90>, <tkp.db.model.Image object at 0x7ffa41460e50>, <tkp.db.model.Image object at 0x7ffa41460f10>, <tkp.db.model.Image object at 0x7ffa41460fd0>, <tkp.db.model.Image object at 0x7ffa414680d0>, <tkp.db.model.Image object at 0x7ffa41468190>, <tkp.db.model.Image object at 0x7ffa41468250>, <tkp.db.model.Image object at 0x7ffa41468310>, <tkp.db.model.Image object at 0x7ffa414683d0>, <tkp.db.model.Image object at 0x7ffa41468490>, <tkp.db.model.Image object at 0x7ffa41468550>, <tkp.db.model.Image object at 0x7ffa41468610>, <tkp.db.model.Image object at 0x7ffa414686d0>, <tkp.db.model.Image object at 0x7ffa41468790>, <tkp.db.model.Image object at 0x7ffa41468850>, <tkp.db.model.Image object at 0x7ffa41468910>, <tkp.db.model.Image object at 0x7ffa414689d0>, <tkp.db.model.Image object at 0x7ffa41468a90>, <tkp.db.model.Image object at 0x7ffa41468b50>, <tkp.db.model.Image object at 0x7ffa41468c10>, <tkp.db.model.Image object at 0x7ffa41468cd0>, <tkp.db.model.Image object at 0x7ffa41468d90>, <tkp.db.model.Image object at 0x7ffa41468e50>, <tkp.db.model.Image object at 0x7ffa41468f10>, <tkp.db.model.Image object at 0x7ffa41468fd0>, <tkp.db.model.Image object at 0x7ffa4146f0d0>, <tkp.db.model.Image object at 0x7ffa4146f190>, <tkp.db.model.Image object at 0x7ffa4146f250>, <tkp.db.model.Image object at 0x7ffa4146f310>, <tkp.db.model.Image object at 0x7ffa4146f3d0>, <tkp.db.model.Image object at 0x7ffa4146f490>, <tkp.db.model.Image object at 0x7ffa4146f550>, <tkp.db.model.Image object at 0x7ffa4146f610>, <tkp.db.model.Image object at 0x7ffa4146f6d0>, <tkp.db.model.Image object at 0x7ffa4146f790>, <tkp.db.model.Image object at 0x7ffa4146f850>, <tkp.db.model.Image object at 0x7ffa4146f910>, <tkp.db.model.Image object at 0x7ffa4146f9d0>, <tkp.db.model.Image object at 0x7ffa4146fa90>, <tkp.db.model.Image object at 0x7ffa4146fb50>, <tkp.db.model.Image object at 0x7ffa4146fc10>, <tkp.db.model.Image object at 0x7ffa4146fcd0>, <tkp.db.model.Image object at 0x7ffa4146fd90>, <tkp.db.model.Image object at 0x7ffa4146fe50>, <tkp.db.model.Image object at 0x7ffa4146ff10>, <tkp.db.model.Image object at 0x7ffa4146ffd0>, <tkp.db.model.Image object at 0x7ffa414780d0>, <tkp.db.model.Image object at 0x7ffa41478190>, <tkp.db.model.Image object at 0x7ffa41478250>, <tkp.db.model.Image object at 0x7ffa41478310>, <tkp.db.model.Image object at 0x7ffa414783d0>, <tkp.db.model.Image object at 0x7ffa41478490>, <tkp.db.model.Image object at 0x7ffa41478550>, <tkp.db.model.Image object at 0x7ffa41478610>, <tkp.db.model.Image object at 0x7ffa414786d0>, <tkp.db.model.Image object at 0x7ffa41478790>, <tkp.db.model.Image object at 0x7ffa41478850>, <tkp.db.model.Image object at 0x7ffa41478910>, <tkp.db.model.Image object at 0x7ffa414789d0>, <tkp.db.model.Image object at 0x7ffa41478a90>, <tkp.db.model.Image object at 0x7ffa41478b50>, <tkp.db.model.Image object at 0x7ffa41478c10>, <tkp.db.model.Image object at 0x7ffa41478cd0>, <tkp.db.model.Image object at 0x7ffa41478d90>, <tkp.db.model.Image object at 0x7ffa41478e50>, <tkp.db.model.Image object at 0x7ffa41478f10>, <tkp.db.model.Image object at 0x7ffa41478fd0>, <tkp.db.model.Image object at 0x7ffa4147f0d0>, <tkp.db.model.Image object at 0x7ffa4147f190>, <tkp.db.model.Image object at 0x7ffa4147f250>, <tkp.db.model.Image object at 0x7ffa4147f310>, <tkp.db.model.Image object at 0x7ffa4147f3d0>, <tkp.db.model.Image object at 0x7ffa4147f490>, <tkp.db.model.Image object at 0x7ffa4147f550>, <tkp.db.model.Image object at 0x7ffa4147f610>, <tkp.db.model.Image object at 0x7ffa4147f6d0>, <tkp.db.model.Image object at 0x7ffa4147f790>, <tkp.db.model.Image object at 0x7ffa4147f850>, <tkp.db.model.Image object at 0x7ffa4147f910>, <tkp.db.model.Image object at 0x7ffa4147f9d0>, <tkp.db.model.Image object at 0x7ffa4147fa90>, <tkp.db.model.Image object at 0x7ffa4147fb50>, <tkp.db.model.Image object at 0x7ffa4147fc10>, <tkp.db.model.Image object at 0x7ffa4147fcd0>, <tkp.db.model.Image object at 0x7ffa4147fd90>, <tkp.db.model.Image object at 0x7ffa4147fe50>, <tkp.db.model.Image object at 0x7ffa4147ff10>, <tkp.db.model.Image object at 0x7ffa4147ffd0>, <tkp.db.model.Image object at 0x7ffa414870d0>, <tkp.db.model.Image object at 0x7ffa41487190>, <tkp.db.model.Image object at 0x7ffa41487250>, <tkp.db.model.Image object at 0x7ffa41487310>, <tkp.db.model.Image object at 0x7ffa414873d0>, <tkp.db.model.Image object at 0x7ffa41487490>, <tkp.db.model.Image object at 0x7ffa41487550>, <tkp.db.model.Image object at 0x7ffa41487610>, <tkp.db.model.Image object at 0x7ffa414876d0>, <tkp.db.model.Image object at 0x7ffa41487790>, <tkp.db.model.Image object at 0x7ffa41487850>, <tkp.db.model.Image object at 0x7ffa41487910>, <tkp.db.model.Image object at 0x7ffa414879d0>, <tkp.db.model.Image object at 0x7ffa41487a90>, <tkp.db.model.Image object at 0x7ffa41487b50>, <tkp.db.model.Image object at 0x7ffa41487c10>, <tkp.db.model.Image object at 0x7ffa41487cd0>, <tkp.db.model.Image object at 0x7ffa41487d90>, <tkp.db.model.Image object at 0x7ffa41487e50>, <tkp.db.model.Image object at 0x7ffa41487f10>, <tkp.db.model.Image object at 0x7ffa41487fd0>, <tkp.db.model.Image object at 0x7ffa4148f0d0>, <tkp.db.model.Image object at 0x7ffa4148f190>, <tkp.db.model.Image object at 0x7ffa4148f250>, <tkp.db.model.Image object at 0x7ffa4148f310>, <tkp.db.model.Image object at 0x7ffa4148f3d0>, <tkp.db.model.Image object at 0x7ffa4148f490>, <tkp.db.model.Image object at 0x7ffa4148f550>, <tkp.db.model.Image object at 0x7ffa4148f610>, <tkp.db.model.Image object at 0x7ffa4148f6d0>, <tkp.db.model.Image object at 0x7ffa4148f790>, <tkp.db.model.Image object at 0x7ffa4148f850>, <tkp.db.model.Image object at 0x7ffa4148f910>, <tkp.db.model.Image object at 0x7ffa4148f9d0>, <tkp.db.model.Image object at 0x7ffa4148fa90>, <tkp.db.model.Image object at 0x7ffa4148fb50>, <tkp.db.model.Image object at 0x7ffa4148fc10>, <tkp.db.model.Image object at 0x7ffa4148fcd0>, <tkp.db.model.Image object at 0x7ffa4148fd90>, <tkp.db.model.Image object at 0x7ffa4148fe50>, <tkp.db.model.Image object at 0x7ffa4148ff10>, <tkp.db.model.Image object at 0x7ffa4148ffd0>, <tkp.db.model.Image object at 0x7ffa414960d0>, <tkp.db.model.Image object at 0x7ffa41496190>, <tkp.db.model.Image object at 0x7ffa41496250>, <tkp.db.model.Image object at 0x7ffa41496310>, <tkp.db.model.Image object at 0x7ffa414963d0>, <tkp.db.model.Image object at 0x7ffa41496490>, <tkp.db.model.Image object at 0x7ffa41496550>, <tkp.db.model.Image object at 0x7ffa41496610>, <tkp.db.model.Image object at 0x7ffa414966d0>, <tkp.db.model.Image object at 0x7ffa41496790>, <tkp.db.model.Image object at 0x7ffa41496850>, <tkp.db.model.Image object at 0x7ffa41496910>, <tkp.db.model.Image object at 0x7ffa414969d0>, <tkp.db.model.Image object at 0x7ffa41496a90>, <tkp.db.model.Image object at 0x7ffa41496b50>, <tkp.db.model.Image object at 0x7ffa41496c10>, <tkp.db.model.Image object at 0x7ffa41496cd0>, <tkp.db.model.Image object at 0x7ffa41496d90>, <tkp.db.model.Image object at 0x7ffa41496e50>, <tkp.db.model.Image object at 0x7ffa41496f10>, <tkp.db.model.Image object at 0x7ffa41496fd0>, <tkp.db.model.Image object at 0x7ffa414200d0>, <tkp.db.model.Image object at 0x7ffa41420190>, <tkp.db.model.Image object at 0x7ffa41420250>, <tkp.db.model.Image object at 0x7ffa41420310>, <tkp.db.model.Image object at 0x7ffa414203d0>, <tkp.db.model.Image object at 0x7ffa41420490>, <tkp.db.model.Image object at 0x7ffa41420550>, <tkp.db.model.Image object at 0x7ffa41420610>, <tkp.db.model.Image object at 0x7ffa414206d0>, <tkp.db.model.Image object at 0x7ffa41420790>, <tkp.db.model.Image object at 0x7ffa41420850>, <tkp.db.model.Image object at 0x7ffa41420910>, <tkp.db.model.Image object at 0x7ffa414209d0>, <tkp.db.model.Image object at 0x7ffa41420a90>, <tkp.db.model.Image object at 0x7ffa41420b50>, <tkp.db.model.Image object at 0x7ffa41420c10>, <tkp.db.model.Image object at 0x7ffa41420cd0>, <tkp.db.model.Image object at 0x7ffa41420d90>, <tkp.db.model.Image object at 0x7ffa41420e50>, <tkp.db.model.Image object at 0x7ffa41420f10>, <tkp.db.model.Image object at 0x7ffa41420fd0>, <tkp.db.model.Image object at 0x7ffa414260d0>, <tkp.db.model.Image object at 0x7ffa41426190>, <tkp.db.model.Image object at 0x7ffa41426250>, <tkp.db.model.Image object at 0x7ffa41426310>, <tkp.db.model.Image object at 0x7ffa414263d0>, <tkp.db.model.Image object at 0x7ffa41426490>, <tkp.db.model.Image object at 0x7ffa41426550>, <tkp.db.model.Image object at 0x7ffa41426610>, <tkp.db.model.Image object at 0x7ffa414266d0>, <tkp.db.model.Image object at 0x7ffa41426790>, <tkp.db.model.Image object at 0x7ffa41426850>, <tkp.db.model.Image object at 0x7ffa41426910>, <tkp.db.model.Image object at 0x7ffa414269d0>, <tkp.db.model.Image object at 0x7ffa41426a90>, <tkp.db.model.Image object at 0x7ffa41426b50>, <tkp.db.model.Image object at 0x7ffa41426c10>, <tkp.db.model.Image object at 0x7ffa41426cd0>, <tkp.db.model.Image object at 0x7ffa41426d90>, <tkp.db.model.Image object at 0x7ffa41426e50>, <tkp.db.model.Image object at 0x7ffa41426f10>, <tkp.db.model.Image object at 0x7ffa41426fd0>, <tkp.db.model.Image object at 0x7ffa414300d0>, <tkp.db.model.Image object at 0x7ffa41430190>, <tkp.db.model.Image object at 0x7ffa41430250>, <tkp.db.model.Image object at 0x7ffa41430310>, <tkp.db.model.Image object at 0x7ffa414303d0>, <tkp.db.model.Image object at 0x7ffa41430490>, <tkp.db.model.Image object at 0x7ffa41430550>, <tkp.db.model.Image object at 0x7ffa41430610>, <tkp.db.model.Image object at 0x7ffa414306d0>, <tkp.db.model.Image object at 0x7ffa41430790>, <tkp.db.model.Image object at 0x7ffa41430850>, <tkp.db.model.Image object at 0x7ffa41430910>, <tkp.db.model.Image object at 0x7ffa414309d0>, <tkp.db.model.Image object at 0x7ffa41430a90>, <tkp.db.model.Image object at 0x7ffa41430b50>, <tkp.db.model.Image object at 0x7ffa41430c10>, <tkp.db.model.Image object at 0x7ffa41430cd0>, <tkp.db.model.Image object at 0x7ffa41430d90>, <tkp.db.model.Image object at 0x7ffa41430e50>, <tkp.db.model.Image object at 0x7ffa41430f10>, <tkp.db.model.Image object at 0x7ffa41430fd0>, <tkp.db.model.Image object at 0x7ffa414360d0>, <tkp.db.model.Image object at 0x7ffa41436190>, <tkp.db.model.Image object at 0x7ffa41436250>, <tkp.db.model.Image object at 0x7ffa41436310>, <tkp.db.model.Image object at 0x7ffa414363d0>, <tkp.db.model.Image object at 0x7ffa41436490>, <tkp.db.model.Image object at 0x7ffa41436550>, <tkp.db.model.Image object at 0x7ffa41436610>, <tkp.db.model.Image object at 0x7ffa414366d0>, <tkp.db.model.Image object at 0x7ffa41436790>, <tkp.db.model.Image object at 0x7ffa41436850>, <tkp.db.model.Image object at 0x7ffa41436910>, <tkp.db.model.Image object at 0x7ffa414369d0>, <tkp.db.model.Image object at 0x7ffa41436a90>, <tkp.db.model.Image object at 0x7ffa41436b50>, <tkp.db.model.Image object at 0x7ffa41436c10>, <tkp.db.model.Image object at 0x7ffa41436cd0>, <tkp.db.model.Image object at 0x7ffa41436d90>, <tkp.db.model.Image object at 0x7ffa41436e50>, <tkp.db.model.Image object at 0x7ffa41436f10>, <tkp.db.model.Image object at 0x7ffa41436fd0>, <tkp.db.model.Image object at 0x7ffa4143f0d0>, <tkp.db.model.Image object at 0x7ffa4143f190>, <tkp.db.model.Image object at 0x7ffa4143f250>, <tkp.db.model.Image object at 0x7ffa4143f310>, <tkp.db.model.Image object at 0x7ffa4143f3d0>, <tkp.db.model.Image object at 0x7ffa4143f490>, <tkp.db.model.Image object at 0x7ffa4143f550>, <tkp.db.model.Image object at 0x7ffa4143f610>, <tkp.db.model.Image object at 0x7ffa4143f6d0>, <tkp.db.model.Image object at 0x7ffa4143f790>, <tkp.db.model.Image object at 0x7ffa4143f850>, <tkp.db.model.Image object at 0x7ffa4143f910>, <tkp.db.model.Image object at 0x7ffa4143f9d0>, <tkp.db.model.Image object at 0x7ffa4143fa90>, <tkp.db.model.Image object at 0x7ffa4143fb50>, <tkp.db.model.Image object at 0x7ffa4143fc10>, <tkp.db.model.Image object at 0x7ffa4143fcd0>, <tkp.db.model.Image object at 0x7ffa4143fd90>, <tkp.db.model.Image object at 0x7ffa4143fe50>, <tkp.db.model.Image object at 0x7ffa4143ff10>, <tkp.db.model.Image object at 0x7ffa4143ffd0>, <tkp.db.model.Image object at 0x7ffa414470d0>, <tkp.db.model.Image object at 0x7ffa41447190>, <tkp.db.model.Image object at 0x7ffa41447250>, <tkp.db.model.Image object at 0x7ffa41447310>, <tkp.db.model.Image object at 0x7ffa414473d0>, <tkp.db.model.Image object at 0x7ffa41447490>, <tkp.db.model.Image object at 0x7ffa41447550>, <tkp.db.model.Image object at 0x7ffa41447610>, <tkp.db.model.Image object at 0x7ffa414476d0>, <tkp.db.model.Image object at 0x7ffa41447790>, <tkp.db.model.Image object at 0x7ffa41447850>, <tkp.db.model.Image object at 0x7ffa41447910>, <tkp.db.model.Image object at 0x7ffa414479d0>, <tkp.db.model.Image object at 0x7ffa41447a90>, <tkp.db.model.Image object at 0x7ffa41447b50>, <tkp.db.model.Image object at 0x7ffa41447c10>, <tkp.db.model.Image object at 0x7ffa41447cd0>, <tkp.db.model.Image object at 0x7ffa41447d90>, <tkp.db.model.Image object at 0x7ffa41447e50>, <tkp.db.model.Image object at 0x7ffa41447f10>, <tkp.db.model.Image object at 0x7ffa41447fd0>, <tkp.db.model.Image object at 0x7ffa4144f0d0>, <tkp.db.model.Image object at 0x7ffa4144f190>, <tkp.db.model.Image object at 0x7ffa4144f250>, <tkp.db.model.Image object at 0x7ffa4144f310>, <tkp.db.model.Image object at 0x7ffa4144f3d0>, <tkp.db.model.Image object at 0x7ffa4144f490>, <tkp.db.model.Image object at 0x7ffa4144f550>, <tkp.db.model.Image object at 0x7ffa4144f610>, <tkp.db.model.Image object at 0x7ffa4144f6d0>, <tkp.db.model.Image object at 0x7ffa4144f790>, <tkp.db.model.Image object at 0x7ffa4144f850>, <tkp.db.model.Image object at 0x7ffa4144f910>, <tkp.db.model.Image object at 0x7ffa4144f9d0>, <tkp.db.model.Image object at 0x7ffa4144fa90>, <tkp.db.model.Image object at 0x7ffa4144fb50>, <tkp.db.model.Image object at 0x7ffa4144fc10>, <tkp.db.model.Image object at 0x7ffa4144fcd0>, <tkp.db.model.Image object at 0x7ffa4144fd90>, <tkp.db.model.Image object at 0x7ffa4144fe50>, <tkp.db.model.Image object at 0x7ffa4144ff10>, <tkp.db.model.Image object at 0x7ffa4144ffd0>]\n"
       ]
      }
     ],
     "prompt_number": 17
    },
    {
     "cell_type": "code",
     "collapsed": false,
     "input": [
      "# get the sources for all images\n",
      "sourcess = [session.query(Extractedsource).filter(Extractedsource.image==image).all() for image in images]"
     ],
     "language": "python",
     "metadata": {},
     "outputs": [],
     "prompt_number": 18
    },
    {
     "cell_type": "code",
     "collapsed": false,
     "input": [
      "combined = zip(images, fitss, sourcess)\n",
      "for index, (image, fits, sources) in enumerate(combined):\n",
      "    fig = pyplot.figure(figsize=(image_size, image_size))\n",
      "    plot = FITSFigure(fits, subplot=[0, 0, 1, 1], figure=fig)\n",
      "    \n",
      "    # so here you can tweak the scale if you want, maybe change contrast or color schema\n",
      "    #\n",
      "    # http://aplpy.readthedocs.org/en/stable/normalize.html\n",
      "    #\n",
      "    plot.show_grayscale(stretch='sqrt')\n",
      "    #plot.show_colorscale(stretch='sqrt')\n",
      "    \n",
      "    # you probably don't want to change this\n",
      "    plot.axis_labels.hide()\n",
      "    plot.tick_labels.hide()\n",
      "    plot.ticks.hide()\n",
      "    ra = [source.ra for source in sources]\n",
      "    dec = [source.decl for source in sources]\n",
      "    semimajor = [source.semimajor / 900 for source in sources]\n",
      "    semiminor = [source.semiminor / 900 for source in sources]\n",
      "    pa = [source.pa + 90 for source in sources]\n",
      "\n",
      "    # this adds the extracted sources, you can configure the colors with the settings above\n",
      "    color = [source_colors[source.extract_type] for source in sources]\n",
      "    plot.show_ellipses(ra, dec, semimajor, semiminor, pa, facecolor='none',\n",
      "                       edgecolor=color, linewidth=2)\n",
      "    \n",
      "    # you can change the bottom text here\n",
      "    plot.add_label(.23, .02, image.url.split('/')[-1], relative=True, color='white')\n",
      "    plot.save(os.path.join(output_folder, str(index) + '.png'))"
     ],
     "language": "python",
     "metadata": {},
     "outputs": [
      {
       "ename": "NameError",
       "evalue": "name 'fitss' is not defined",
       "output_type": "pyerr",
       "traceback": [
        "\u001b[0;31m---------------------------------------------------------------------------\u001b[0m\n\u001b[0;31mNameError\u001b[0m                                 Traceback (most recent call last)",
        "\u001b[0;32m<ipython-input-19-d89cb8d8a809>\u001b[0m in \u001b[0;36m<module>\u001b[0;34m()\u001b[0m\n\u001b[0;32m----> 1\u001b[0;31m \u001b[0mcombined\u001b[0m \u001b[0;34m=\u001b[0m \u001b[0mzip\u001b[0m\u001b[0;34m(\u001b[0m\u001b[0mimages\u001b[0m\u001b[0;34m,\u001b[0m \u001b[0mfitss\u001b[0m\u001b[0;34m,\u001b[0m \u001b[0msourcess\u001b[0m\u001b[0;34m)\u001b[0m\u001b[0;34m\u001b[0m\u001b[0m\n\u001b[0m\u001b[1;32m      2\u001b[0m \u001b[0;32mfor\u001b[0m \u001b[0mindex\u001b[0m\u001b[0;34m,\u001b[0m \u001b[0;34m(\u001b[0m\u001b[0mimage\u001b[0m\u001b[0;34m,\u001b[0m \u001b[0mfits\u001b[0m\u001b[0;34m,\u001b[0m \u001b[0msources\u001b[0m\u001b[0;34m)\u001b[0m \u001b[0;32min\u001b[0m \u001b[0menumerate\u001b[0m\u001b[0;34m(\u001b[0m\u001b[0mcombined\u001b[0m\u001b[0;34m)\u001b[0m\u001b[0;34m:\u001b[0m\u001b[0;34m\u001b[0m\u001b[0m\n\u001b[1;32m      3\u001b[0m     \u001b[0mfig\u001b[0m \u001b[0;34m=\u001b[0m \u001b[0mpyplot\u001b[0m\u001b[0;34m.\u001b[0m\u001b[0mfigure\u001b[0m\u001b[0;34m(\u001b[0m\u001b[0mfigsize\u001b[0m\u001b[0;34m=\u001b[0m\u001b[0;34m(\u001b[0m\u001b[0mimage_size\u001b[0m\u001b[0;34m,\u001b[0m \u001b[0mimage_size\u001b[0m\u001b[0;34m)\u001b[0m\u001b[0;34m)\u001b[0m\u001b[0;34m\u001b[0m\u001b[0m\n\u001b[1;32m      4\u001b[0m     \u001b[0mplot\u001b[0m \u001b[0;34m=\u001b[0m \u001b[0mFITSFigure\u001b[0m\u001b[0;34m(\u001b[0m\u001b[0mfits\u001b[0m\u001b[0;34m,\u001b[0m \u001b[0msubplot\u001b[0m\u001b[0;34m=\u001b[0m\u001b[0;34m[\u001b[0m\u001b[0;36m0\u001b[0m\u001b[0;34m,\u001b[0m \u001b[0;36m0\u001b[0m\u001b[0;34m,\u001b[0m \u001b[0;36m1\u001b[0m\u001b[0;34m,\u001b[0m \u001b[0;36m1\u001b[0m\u001b[0;34m]\u001b[0m\u001b[0;34m,\u001b[0m \u001b[0mfigure\u001b[0m\u001b[0;34m=\u001b[0m\u001b[0mfig\u001b[0m\u001b[0;34m)\u001b[0m\u001b[0;34m\u001b[0m\u001b[0m\n\u001b[1;32m      5\u001b[0m \u001b[0;34m\u001b[0m\u001b[0m\n",
        "\u001b[0;31mNameError\u001b[0m: name 'fitss' is not defined"
       ]
      }
     ],
     "prompt_number": 19
    }
   ],
   "metadata": {}
  }
 ]
}