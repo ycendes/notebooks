{
 "metadata": {
  "name": ""
 },
 "nbformat": 3,
 "nbformat_minor": 0,
 "worksheets": [
  {
   "cells": [
    {
     "cell_type": "code",
     "collapsed": false,
     "input": [
      "import matplotlib\n",
      "\n",
      "\n",
      "# remove this inline statement to stop the previews in the notebook\n",
      "%matplotlib inline\n",
      "#matplotlib.use('Agg')\n",
      "\n",
      "import logging\n",
      "from tkp.db.model import Image, Extractedsource\n",
      "from tkp.db import Database\n",
      "from pymongo import MongoClient\n",
      "from gridfs import GridFS\n",
      "from astropy.io import fits\n",
      "from astropy import log as astrolog\n",
      "from matplotlib import pyplot\n",
      "from aplpy import FITSFigure\n",
      "import os"
     ],
     "language": "python",
     "metadata": {},
     "outputs": [],
     "prompt_number": 2
    },
    {
     "cell_type": "code",
     "collapsed": false,
     "input": [],
     "language": "python",
     "metadata": {},
     "outputs": []
    }
   ],
   "metadata": {}
  }
 ]
}